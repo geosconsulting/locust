{
 "cells": [
  {
   "cell_type": "code",
   "execution_count": 19,
   "id": "f5aadc28",
   "metadata": {},
   "outputs": [],
   "source": [
    "import arcgis"
   ]
  },
  {
   "cell_type": "code",
   "execution_count": 31,
   "id": "f1ce82f6",
   "metadata": {},
   "outputs": [],
   "source": [
    "from importlib import reload\n",
    "reload"
   ]
  },
  {
   "cell_type": "code",
   "execution_count": 84,
   "id": "7b833645",
   "metadata": {},
   "outputs": [
    {
     "data": {
      "text/html": [
       "<style>.container { width:90% !important; }</style>"
      ],
      "text/plain": [
       "<IPython.core.display.HTML object>"
      ]
     },
     "metadata": {},
     "output_type": "display_data"
    }
   ],
   "source": [
    "from IPython.display import display, HTML\n",
    "display(HTML(\"<style>.container { width:90% !important; }</style>\"))"
   ]
  },
  {
   "cell_type": "code",
   "execution_count": 45,
   "id": "24e92a6d-90b2-4a95-8d81-90c4e4bdcd18",
   "metadata": {
    "ExecuteTime": {
     "end_time": "2021-09-14T09:51:28.577442Z",
     "start_time": "2021-09-14T09:51:27.527431Z"
    },
    "pycharm": {
     "name": "#%%\n"
    }
   },
   "outputs": [],
   "source": [
    "from locust_modules.Config import Config\n",
    "import datetime\n",
    "from arcgis.gis import GIS\n",
    "\n",
    "config = Config()"
   ]
  },
  {
   "cell_type": "markdown",
   "id": "ca9e87f4-8467-4861-a88e-cd711bb84ead",
   "metadata": {
    "pycharm": {
     "name": "#%% md\n"
    }
   },
   "source": [
    "# Locust HUB Data"
   ]
  },
  {
   "cell_type": "code",
   "execution_count": 47,
   "id": "d64e427f-8b20-4551-9e7f-59adaa8adae2",
   "metadata": {
    "ExecuteTime": {
     "end_time": "2021-09-03T11:56:19.664692Z",
     "start_time": "2021-09-03T11:56:17.950930Z"
    },
    "pycharm": {
     "name": "#%%\n"
    }
   },
   "outputs": [],
   "source": [
    "conn_param_arcgis = config.connections_details(service='arcgis_fao')"
   ]
  },
  {
   "cell_type": "code",
   "execution_count": 48,
   "id": "3db2a290",
   "metadata": {},
   "outputs": [],
   "source": [
    "locust_hub_gis = GIS(conn_param_arcgis['host'], conn_param_arcgis['user'], conn_param_arcgis['password'])"
   ]
  },
  {
   "cell_type": "code",
   "execution_count": 53,
   "id": "bc0f62dd",
   "metadata": {
    "pycharm": {
     "name": "#%%\n"
    }
   },
   "outputs": [
    {
     "data": {
      "text/plain": [
       "[<Item title:\"RAMSES Archival Review\" type:Web Map owner:faodlis_hqfao>,\n",
       " <Item title:\"20210913_RAMSES_Observations\" type:Feature Layer Collection owner:faodlis_hqfao>,\n",
       " <Item title:\"RAMSES_HopperObs\" type:Feature Layer Collection owner:faodlis_hqfao>,\n",
       " <Item title:\"Ramses Observations\" type:Feature Layer Collection owner:faodlis_hqfao>]"
      ]
     },
     "execution_count": 53,
     "metadata": {},
     "output_type": "execute_result"
    }
   ],
   "source": [
    "layers_found_4_term = locust_hub_gis.content.search('Ramses', max_items=4)\n",
    "layers_found_4_term"
   ]
  },
  {
   "cell_type": "code",
   "execution_count": 64,
   "id": "7934eeb2",
   "metadata": {},
   "outputs": [
    {
     "name": "stdout",
     "output_type": "stream",
     "text": [
      "None 7c8c2f0af6904fb3822a7ca664925b32\n",
      "None 3ce8156a0fc747769fb6e5292ac47fa2\n",
      "RAMSES_HopperObs 308a7453b637406bb7b7735447ae47f5\n",
      "Ramses_Observations 4fa702ff91f64260b1d1bcab4f0cf733\n"
     ]
    }
   ],
   "source": [
    "for item in layers_found_4_term:\n",
    "    name_item = item.name\n",
    "    id_item = item.id  \n",
    "    print(name_item,id_item)\n",
    "    if name_item == \"Ramses_Observations\":\n",
    "        locust_item = locust_hub_gis.content.get(id_item)"
   ]
  },
  {
   "cell_type": "code",
   "execution_count": 65,
   "id": "09b053a0-d4f6-4181-8fd4-f48b12acc3de",
   "metadata": {
    "ExecuteTime": {
     "end_time": "2021-09-03T11:56:21.635969Z",
     "start_time": "2021-09-03T11:56:20.686970Z"
    },
    "pycharm": {
     "name": "#%%\n"
    }
   },
   "outputs": [],
   "source": [
    "locust_layer = locust_item.layers[0]"
   ]
  },
  {
   "cell_type": "code",
   "execution_count": 66,
   "id": "5f2c1b6b",
   "metadata": {},
   "outputs": [
    {
     "data": {
      "text/plain": [
       "<FeatureLayer url:\"https://services5.arcgis.com/sjP4Ugu5s0dZWLjd/arcgis/rest/services/Ramses_Observations/FeatureServer/0\">"
      ]
     },
     "execution_count": 66,
     "metadata": {},
     "output_type": "execute_result"
    }
   ],
   "source": [
    "locust_layer"
   ]
  },
  {
   "cell_type": "code",
   "execution_count": 83,
   "id": "7506c622",
   "metadata": {},
   "outputs": [],
   "source": [
    "# for f in locust_layer.properties.fields:\n",
    "#     print(f['name'])"
   ]
  },
  {
   "cell_type": "code",
   "execution_count": 79,
   "id": "9c95cc2e-5ba5-4942-bec7-eba7725651b9",
   "metadata": {
    "ExecuteTime": {
     "end_time": "2021-09-03T11:56:26.021351Z",
     "start_time": "2021-09-03T11:56:22.655736Z"
    },
    "pycharm": {
     "name": "#%%\n"
    }
   },
   "outputs": [],
   "source": [
    "query_literal = \"'Obs_Date' > '2022-06-01'\"\n",
    "locust_filtered = locust_layer.query(where=query_literal)"
   ]
  },
  {
   "cell_type": "code",
   "execution_count": 80,
   "id": "f7948542",
   "metadata": {
    "ExecuteTime": {
     "end_time": "2021-09-03T11:56:27.290901Z",
     "start_time": "2021-09-03T11:56:27.074875Z"
    },
    "pycharm": {
     "name": "#%%\n"
    }
   },
   "outputs": [
    {
     "data": {
      "text/html": [
       "<div>\n",
       "<style scoped>\n",
       "    .dataframe tbody tr th:only-of-type {\n",
       "        vertical-align: middle;\n",
       "    }\n",
       "\n",
       "    .dataframe tbody tr th {\n",
       "        vertical-align: top;\n",
       "    }\n",
       "\n",
       "    .dataframe thead th {\n",
       "        text-align: right;\n",
       "    }\n",
       "</style>\n",
       "<table border=\"1\" class=\"dataframe\">\n",
       "  <thead>\n",
       "    <tr style=\"text-align: right;\">\n",
       "      <th></th>\n",
       "      <th>OBJECTID</th>\n",
       "      <th>Breeding</th>\n",
       "      <th>Colour</th>\n",
       "      <th>Application_Method</th>\n",
       "      <th>Application_Type</th>\n",
       "      <th>Control_Method</th>\n",
       "      <th>Pesticide_Formulation</th>\n",
       "      <th>Pesticide_Name</th>\n",
       "      <th>Pesticide_Quantity_Unit</th>\n",
       "      <th>Day</th>\n",
       "      <th>...</th>\n",
       "      <th>Maximum_Density_Sum</th>\n",
       "      <th>Minimum_Density_Sum</th>\n",
       "      <th>Avg__Soil_Moisture_Depth_Range_</th>\n",
       "      <th>Avg__Soil_Moisture_Depth_Range1</th>\n",
       "      <th>Band_Site_Count_Sum</th>\n",
       "      <th>Maximum_Size_Sum</th>\n",
       "      <th>Minimum_Size_Sum</th>\n",
       "      <th>Presence_Type</th>\n",
       "      <th>GlobalID</th>\n",
       "      <th>SHAPE</th>\n",
       "    </tr>\n",
       "  </thead>\n",
       "  <tbody>\n",
       "    <tr>\n",
       "      <th>0</th>\n",
       "      <td>1383057</td>\n",
       "      <td>COPULATING</td>\n",
       "      <td>YELLOW</td>\n",
       "      <td>GROUND</td>\n",
       "      <td>FULL_COVER</td>\n",
       "      <td>VEHICLE</td>\n",
       "      <td>ULV</td>\n",
       "      <td>CHLORPYRIFOS</td>\n",
       "      <td>L</td>\n",
       "      <td>2021-11-23</td>\n",
       "      <td>...</td>\n",
       "      <td>0</td>\n",
       "      <td>0</td>\n",
       "      <td>0</td>\n",
       "      <td>0</td>\n",
       "      <td>0</td>\n",
       "      <td>0</td>\n",
       "      <td>0</td>\n",
       "      <td>Copulating/Laying Adult Low Density</td>\n",
       "      <td>15ec5bf5-6c76-462e-8426-93dd3381faf2</td>\n",
       "      <td>{\"x\": 35.6458, \"y\": 22.6077, \"spatialReference...</td>\n",
       "    </tr>\n",
       "    <tr>\n",
       "      <th>1</th>\n",
       "      <td>1383058</td>\n",
       "      <td>COPULATING</td>\n",
       "      <td>YELLOW</td>\n",
       "      <td>GROUND</td>\n",
       "      <td>FULL_COVER</td>\n",
       "      <td>VEHICLE</td>\n",
       "      <td>ULV</td>\n",
       "      <td>CHLORPYRIFOS</td>\n",
       "      <td>L</td>\n",
       "      <td>2021-11-23</td>\n",
       "      <td>...</td>\n",
       "      <td>0</td>\n",
       "      <td>0</td>\n",
       "      <td>0</td>\n",
       "      <td>0</td>\n",
       "      <td>0</td>\n",
       "      <td>0</td>\n",
       "      <td>0</td>\n",
       "      <td>Copulating/Laying Adult Low Density</td>\n",
       "      <td>bcb1b1ac-c23a-4d76-8917-2d931eb04c4c</td>\n",
       "      <td>{\"x\": 35.6458, \"y\": 22.6077, \"spatialReference...</td>\n",
       "    </tr>\n",
       "    <tr>\n",
       "      <th>2</th>\n",
       "      <td>1383059</td>\n",
       "      <td>COPULATING</td>\n",
       "      <td>YELLOW | YELLOW_WINGS</td>\n",
       "      <td>GROUND</td>\n",
       "      <td>FULL_COVER</td>\n",
       "      <td>VEHICLE</td>\n",
       "      <td>ULV</td>\n",
       "      <td>CHLORPYRIFOS</td>\n",
       "      <td>L</td>\n",
       "      <td>2021-11-24</td>\n",
       "      <td>...</td>\n",
       "      <td>0</td>\n",
       "      <td>0</td>\n",
       "      <td>0</td>\n",
       "      <td>0</td>\n",
       "      <td>0</td>\n",
       "      <td>0</td>\n",
       "      <td>0</td>\n",
       "      <td>Copulating/Laying Adult Low Density</td>\n",
       "      <td>662ea035-0469-41b0-bc1c-0020e41f5604</td>\n",
       "      <td>{\"x\": 35.6458, \"y\": 22.6077, \"spatialReference...</td>\n",
       "    </tr>\n",
       "    <tr>\n",
       "      <th>3</th>\n",
       "      <td>1383060</td>\n",
       "      <td>COPULATING</td>\n",
       "      <td>YELLOW | YELLOW_WINGS</td>\n",
       "      <td>GROUND</td>\n",
       "      <td>FULL_COVER</td>\n",
       "      <td>VEHICLE</td>\n",
       "      <td>ULV</td>\n",
       "      <td>CHLORPYRIFOS</td>\n",
       "      <td>L</td>\n",
       "      <td>2021-11-24</td>\n",
       "      <td>...</td>\n",
       "      <td>0</td>\n",
       "      <td>0</td>\n",
       "      <td>0</td>\n",
       "      <td>0</td>\n",
       "      <td>0</td>\n",
       "      <td>0</td>\n",
       "      <td>0</td>\n",
       "      <td>Copulating/Laying Adult Low Density</td>\n",
       "      <td>e633d1d6-c4cb-48db-b64c-8ed648949db1</td>\n",
       "      <td>{\"x\": 35.6458, \"y\": 22.6077, \"spatialReference...</td>\n",
       "    </tr>\n",
       "    <tr>\n",
       "      <th>4</th>\n",
       "      <td>1383061</td>\n",
       "      <td>COPULATING</td>\n",
       "      <td>YELLOW</td>\n",
       "      <td>GROUND</td>\n",
       "      <td>FULL_COVER</td>\n",
       "      <td>VEHICLE</td>\n",
       "      <td>ULV</td>\n",
       "      <td>METARHIZIUM</td>\n",
       "      <td>L</td>\n",
       "      <td>2021-10-18</td>\n",
       "      <td>...</td>\n",
       "      <td>0</td>\n",
       "      <td>0</td>\n",
       "      <td>0</td>\n",
       "      <td>0</td>\n",
       "      <td>0</td>\n",
       "      <td>0</td>\n",
       "      <td>0</td>\n",
       "      <td>Copulating/Laying Swarm</td>\n",
       "      <td>393f9029-9d7c-4a09-bd8f-5a0bf2db0d88</td>\n",
       "      <td>{\"x\": 48.7648, \"y\": 9.6264, \"spatialReference\"...</td>\n",
       "    </tr>\n",
       "  </tbody>\n",
       "</table>\n",
       "<p>5 rows × 73 columns</p>\n",
       "</div>"
      ],
      "text/plain": [
       "   OBJECTID    Breeding                 Colour Application_Method  \\\n",
       "0   1383057  COPULATING                 YELLOW             GROUND   \n",
       "1   1383058  COPULATING                 YELLOW             GROUND   \n",
       "2   1383059  COPULATING  YELLOW | YELLOW_WINGS             GROUND   \n",
       "3   1383060  COPULATING  YELLOW | YELLOW_WINGS             GROUND   \n",
       "4   1383061  COPULATING                 YELLOW             GROUND   \n",
       "\n",
       "  Application_Type Control_Method Pesticide_Formulation Pesticide_Name  \\\n",
       "0       FULL_COVER        VEHICLE                   ULV   CHLORPYRIFOS   \n",
       "1       FULL_COVER        VEHICLE                   ULV   CHLORPYRIFOS   \n",
       "2       FULL_COVER        VEHICLE                   ULV   CHLORPYRIFOS   \n",
       "3       FULL_COVER        VEHICLE                   ULV   CHLORPYRIFOS   \n",
       "4       FULL_COVER        VEHICLE                   ULV    METARHIZIUM   \n",
       "\n",
       "  Pesticide_Quantity_Unit        Day  ... Maximum_Density_Sum  \\\n",
       "0                       L 2021-11-23  ...                   0   \n",
       "1                       L 2021-11-23  ...                   0   \n",
       "2                       L 2021-11-24  ...                   0   \n",
       "3                       L 2021-11-24  ...                   0   \n",
       "4                       L 2021-10-18  ...                   0   \n",
       "\n",
       "  Minimum_Density_Sum  Avg__Soil_Moisture_Depth_Range_  \\\n",
       "0                   0                                0   \n",
       "1                   0                                0   \n",
       "2                   0                                0   \n",
       "3                   0                                0   \n",
       "4                   0                                0   \n",
       "\n",
       "  Avg__Soil_Moisture_Depth_Range1 Band_Site_Count_Sum Maximum_Size_Sum  \\\n",
       "0                               0                   0                0   \n",
       "1                               0                   0                0   \n",
       "2                               0                   0                0   \n",
       "3                               0                   0                0   \n",
       "4                               0                   0                0   \n",
       "\n",
       "  Minimum_Size_Sum                        Presence_Type  \\\n",
       "0                0  Copulating/Laying Adult Low Density   \n",
       "1                0  Copulating/Laying Adult Low Density   \n",
       "2                0  Copulating/Laying Adult Low Density   \n",
       "3                0  Copulating/Laying Adult Low Density   \n",
       "4                0              Copulating/Laying Swarm   \n",
       "\n",
       "                               GlobalID  \\\n",
       "0  15ec5bf5-6c76-462e-8426-93dd3381faf2   \n",
       "1  bcb1b1ac-c23a-4d76-8917-2d931eb04c4c   \n",
       "2  662ea035-0469-41b0-bc1c-0020e41f5604   \n",
       "3  e633d1d6-c4cb-48db-b64c-8ed648949db1   \n",
       "4  393f9029-9d7c-4a09-bd8f-5a0bf2db0d88   \n",
       "\n",
       "                                               SHAPE  \n",
       "0  {\"x\": 35.6458, \"y\": 22.6077, \"spatialReference...  \n",
       "1  {\"x\": 35.6458, \"y\": 22.6077, \"spatialReference...  \n",
       "2  {\"x\": 35.6458, \"y\": 22.6077, \"spatialReference...  \n",
       "3  {\"x\": 35.6458, \"y\": 22.6077, \"spatialReference...  \n",
       "4  {\"x\": 48.7648, \"y\": 9.6264, \"spatialReference\"...  \n",
       "\n",
       "[5 rows x 73 columns]"
      ]
     },
     "execution_count": 80,
     "metadata": {},
     "output_type": "execute_result"
    }
   ],
   "source": [
    "sdf_locust_filtered = locust_filtered.sdf\n",
    "sdf_locust_filtered.head()"
   ]
  },
  {
   "cell_type": "code",
   "execution_count": 81,
   "id": "28e6161d",
   "metadata": {},
   "outputs": [
    {
     "data": {
      "text/plain": [
       "Timestamp('2022-08-29 00:00:00')"
      ]
     },
     "execution_count": 81,
     "metadata": {},
     "output_type": "execute_result"
    }
   ],
   "source": [
    "sdf_locust_filtered.Obs_Date.max()"
   ]
  },
  {
   "cell_type": "code",
   "execution_count": 82,
   "id": "6273f1f8",
   "metadata": {},
   "outputs": [
    {
     "data": {
      "application/vnd.jupyter.widget-view+json": {
       "model_id": "a5bc9b8dafa54569ad18610165f358d0",
       "version_major": 2,
       "version_minor": 0
      },
      "text/plain": [
       "MapView(layout=Layout(height='400px', width='100%'))"
      ]
     },
     "metadata": {},
     "output_type": "display_data"
    },
    {
     "data": {
      "text/html": [
       "<div class=\"map-static-img-preview-eae52bf3-da2b-4061-8e3c-d630fe106481\"><img src=\"\"></img></div>"
      ],
      "text/plain": [
       "<IPython.core.display.HTML object>"
      ]
     },
     "metadata": {},
     "output_type": "display_data"
    },
    {
     "data": {
      "text/html": [
       "<div class=\"map-html-embed-preview-eae52bf3-da2b-4061-8e3c-d630fe106481\"></div>"
      ],
      "text/plain": [
       "<IPython.core.display.HTML object>"
      ]
     },
     "metadata": {},
     "output_type": "display_data"
    }
   ],
   "source": [
    "# Create a map widget\n",
    "map1 = locust_hub_gis.map('Somalia') # Passing a place name to the constructor\n",
    "                        # will initialize the extent of the map.\n",
    "map1.add_layer(locust_layer)\n",
    "map1"
   ]
  },
  {
   "cell_type": "code",
   "execution_count": 78,
   "id": "e217aa66",
   "metadata": {},
   "outputs": [],
   "source": []
  },
  {
   "cell_type": "code",
   "execution_count": null,
   "id": "af543860",
   "metadata": {},
   "outputs": [],
   "source": []
  }
 ],
 "metadata": {
  "hide_input": false,
  "kernelspec": {
   "display_name": "Python 3 (ipykernel)",
   "language": "python",
   "name": "python3"
  },
  "language_info": {
   "codemirror_mode": {
    "name": "ipython",
    "version": 3
   },
   "file_extension": ".py",
   "mimetype": "text/x-python",
   "name": "python",
   "nbconvert_exporter": "python",
   "pygments_lexer": "ipython3",
   "version": "3.9.13"
  },
  "toc": {
   "base_numbering": 1,
   "nav_menu": {},
   "number_sections": true,
   "sideBar": true,
   "skip_h1_title": false,
   "title_cell": "Table of Contents",
   "title_sidebar": "Contents",
   "toc_cell": false,
   "toc_position": {},
   "toc_section_display": true,
   "toc_window_display": false
  },
  "varInspector": {
   "cols": {
    "lenName": 16,
    "lenType": 16,
    "lenVar": 40
   },
   "kernels_config": {
    "python": {
     "delete_cmd_postfix": "",
     "delete_cmd_prefix": "del ",
     "library": "var_list.py",
     "varRefreshCmd": "print(var_dic_list())"
    },
    "r": {
     "delete_cmd_postfix": ") ",
     "delete_cmd_prefix": "rm(",
     "library": "var_list.r",
     "varRefreshCmd": "cat(var_dic_list()) "
    }
   },
   "position": {
    "height": "307.85px",
    "left": "883px",
    "right": "20px",
    "top": "89px",
    "width": "800px"
   },
   "types_to_exclude": [
    "module",
    "function",
    "builtin_function_or_method",
    "instance",
    "_Feature"
   ],
   "window_display": true
  }
 },
 "nbformat": 4,
 "nbformat_minor": 5
}
